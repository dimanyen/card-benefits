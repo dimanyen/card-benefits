{
  "nbformat": 4,
  "nbformat_minor": 0,
  "metadata": {
    "colab": {
      "provenance": [],
      "authorship_tag": "ABX9TyO7p2jWy6z6qFoZ7gU0isMp",
      "include_colab_link": true
    },
    "kernelspec": {
      "name": "python3",
      "display_name": "Python 3"
    },
    "language_info": {
      "name": "python"
    }
  },
  "cells": [
    {
      "cell_type": "markdown",
      "metadata": {
        "id": "view-in-github",
        "colab_type": "text"
      },
      "source": [
        "<a href=\"https://colab.research.google.com/github/dimanyen/card-benefits/blob/main/%E4%BF%A1%E7%94%A8%E5%8D%A1%E5%84%AA%E6%83%A0GAI_RAG.ipynb\" target=\"_parent\"><img src=\"https://colab.research.google.com/assets/colab-badge.svg\" alt=\"Open In Colab\"/></a>"
      ]
    },
    {
      "cell_type": "markdown",
      "source": [
        "# Install package"
      ],
      "metadata": {
        "id": "ccRXD2u03HxB"
      }
    },
    {
      "cell_type": "code",
      "execution_count": null,
      "metadata": {
        "id": "TfWKmqnp2-_o"
      },
      "outputs": [],
      "source": [
        "!pip install langchain chromadb openai"
      ]
    },
    {
      "cell_type": "markdown",
      "source": [],
      "metadata": {
        "id": "oHXtf88A3Meo"
      }
    },
    {
      "cell_type": "markdown",
      "source": [
        "# 建立向量資料庫"
      ],
      "metadata": {
        "id": "0hulZB216HPg"
      }
    },
    {
      "cell_type": "code",
      "source": [
        "! unzip /content/信用卡優惠訊息-20240719T073550Z-001.zip"
      ],
      "metadata": {
        "colab": {
          "base_uri": "https://localhost:8080/"
        },
        "id": "_zlrpIud6-m_",
        "outputId": "fc6c387d-9a52-44d0-91cf-663340149ab3"
      },
      "execution_count": 5,
      "outputs": [
        {
          "output_type": "stream",
          "name": "stdout",
          "text": [
            "Archive:  /content/信用卡優惠訊息-20240719T073550Z-001.zip\n",
            "  inflating: 信用卡優惠訊息/星展銀行.pdf  \n",
            "  inflating: 信用卡優惠訊息/信用卡優惠懶人包(保費、燃料費、王品、首刷禮、機場貴賓室).pdf  \n",
            "  inflating: 信用卡優惠訊息/匯豐銀行.pdf  \n",
            "  inflating: 信用卡優惠訊息/中國信託.pdf  \n",
            "  inflating: 信用卡優惠訊息/玉山銀行.pdf  \n",
            "  inflating: 信用卡優惠訊息/台新銀行.pdf  \n",
            "  inflating: 信用卡優惠訊息/國泰世華.pdf  \n"
          ]
        }
      ]
    },
    {
      "cell_type": "code",
      "source": [
        "import os\n",
        "from langchain.embeddings.openai import OpenAIEmbeddings\n",
        "from langchain.text_splitter import RecursiveCharacterTextSplitter\n",
        "from langchain.document_loaders import PyPDFLoader\n",
        "from google.colab import drive\n",
        "from langchain.docstore.document import Document\n",
        "import chromadb\n",
        "from chromadb.config import Settings\n",
        "from google.colab import userdata\n",
        "\n",
        "api_key = userdata.get('OPENAI_API_KEY')\n",
        "\n",
        "# 掛載Google Drive\n",
        "# drive.mount('/content/drive', force_remount=True)\n",
        "\n",
        "# 設置資料夾路徑\n",
        "folder_path = \"/content/信用卡優惠訊息\"\n",
        "\n",
        "# 初始化PDF文件加載器\n",
        "pdf_loaders = []\n",
        "\n",
        "# 遍歷資料夾內所有PDF文件\n",
        "for filename in os.listdir(folder_path):\n",
        "    if filename.endswith(\".pdf\"):\n",
        "        file_path = os.path.join(folder_path, filename)\n",
        "        pdf_loaders.append(PyPDFLoader(file_path))\n",
        "\n",
        "# 確認有無PDF文件\n",
        "if not pdf_loaders:\n",
        "    raise FileNotFoundError(f\"No PDF files found in directory: {folder_path}\")\n",
        "\n",
        "# 加載所有PDF文件\n",
        "documents = []\n",
        "for loader in pdf_loaders:\n",
        "    documents.extend(loader.load())\n",
        "\n",
        "# 確認有無加載文檔\n",
        "if not documents:\n",
        "    raise ValueError(\"No documents were loaded.\")\n",
        "\n",
        "# 分割文本\n",
        "text_splitter = RecursiveCharacterTextSplitter(\n",
        "    chunk_size=250,\n",
        "    chunk_overlap=30\n",
        ")\n",
        "texts = text_splitter.split_documents(documents)\n",
        "\n",
        "# 確認有無分割文本\n",
        "if not texts:\n",
        "    raise ValueError(\"Text splitting failed.\")\n",
        "\n",
        "# 初始化OpenAI嵌入\n",
        "embeddings = OpenAIEmbeddings(api_key=api_key)\n",
        "\n",
        "# 提取文本內容\n",
        "document_texts = [doc.page_content for doc in texts]\n",
        "\n",
        "# 確認有無文本內容\n",
        "if not document_texts:\n",
        "    raise ValueError(\"No text content found in documents.\")\n",
        "\n",
        "# 嵌入文檔\n",
        "document_embeddings = embeddings.embed_documents(document_texts)\n",
        "\n",
        "# 確認有無嵌入文檔\n",
        "if not document_embeddings:\n",
        "    raise ValueError(\"Document embedding failed.\")\n",
        "\n",
        "# 初始化Chroma客戶端\n",
        "chroma_client = chromadb.Client(Settings(persist_directory=\"/content/drive/MyDrive/vector_store\"))\n",
        "\n",
        "# 創建Chroma集合\n",
        "collection = chroma_client.create_collection(name=\"document_collection\")\n",
        "\n",
        "# 添加文本和對應的嵌入到Chroma集合\n",
        "for i, (embedding, text) in enumerate(zip(document_embeddings, document_texts)):\n",
        "    collection.add(\n",
        "        ids=[str(i)],\n",
        "        embeddings=[embedding],\n",
        "        metadatas=[{\"text\": text}]\n",
        "    )\n",
        "\n",
        "print(\"Documents have been successfully added to the Chroma vector store.\")"
      ],
      "metadata": {
        "id": "VP6cCpEQ6LZh",
        "colab": {
          "base_uri": "https://localhost:8080/"
        },
        "outputId": "3d146ea8-986d-42ad-b0f2-82a61a9f647e"
      },
      "execution_count": 6,
      "outputs": [
        {
          "output_type": "stream",
          "name": "stderr",
          "text": [
            "/usr/local/lib/python3.10/dist-packages/langchain_core/_api/deprecation.py:139: LangChainDeprecationWarning: The class `OpenAIEmbeddings` was deprecated in LangChain 0.0.9 and will be removed in 0.3.0. An updated version of the class exists in the langchain-openai package and should be used instead. To use it run `pip install -U langchain-openai` and import as `from langchain_openai import OpenAIEmbeddings`.\n",
            "  warn_deprecated(\n"
          ]
        },
        {
          "output_type": "stream",
          "name": "stdout",
          "text": [
            "Documents have been successfully added to the Chroma vector store.\n"
          ]
        }
      ]
    },
    {
      "cell_type": "code",
      "source": [
        "query = \"我想要去日本玩，有麼優惠推薦\"\n",
        "# 將查詢轉換為嵌入向量\n",
        "query_embedding = embeddings.embed_query(query)\n",
        "\n",
        "# 在Chroma中搜索相似文檔\n",
        "results = collection.query(query_embeddings=[query_embedding], n_results=5)\n",
        "\n",
        "# 獲取相似文檔的文本\n",
        "similar_texts = [metadata[\"text\"] for metadata in results[\"metadatas\"][0]]\n",
        "\n",
        "display(similar_texts)"
      ],
      "metadata": {
        "colab": {
          "base_uri": "https://localhost:8080/",
          "height": 249
        },
        "id": "CYabBGCm7esI",
        "outputId": "6c0cc5ea-ba8a-4f59-b9af-8d97b41d4547"
      },
      "execution_count": 7,
      "outputs": [
        {
          "output_type": "display_data",
          "data": {
            "text/plain": [
              "['商家：國內一般消費  \\n詳情：每筆國內一般消費不限金額可享 1%現金回饋，回饋無上限，直接折抵次\\n期帳單消費。  \\n#現金回饋最高 3%，無上限 (2024/12/31 止) \\n商家：日本  \\n詳情：使用玉山 JCB日圓極緻卡於日本地區消費享 1.5%現金回饋，同享免收\\n1.5%國外交易服務費，合計共 3%回饋。  \\n#指定房型 43折(2024/12/31 止、限平日 ) \\n商家：台中商旅  \\n詳情：入住菁英套房、景觀套房依定價享平日 4.9折、假日 5.4折優惠，行政套',\n",
              " '4.紅檜俱樂部 +竹林亭單饗餐 (日式套餐，原價 NT$1,080+10%) NT$1,600/ 人。  \\n條件：  \\n限平日使用，限泡湯  \\n--- \\n##台新銀行 @GoGo悠遊御璽卡  \\n#台新 Point(信用卡 )回饋最高 0.3%，無上限 (2024/11/30 止) \\n商家：國內一般消費、海外一般消費  \\n詳情：一般消費  0.3%無上限。  \\n#餐飲 5折(2024/8/31 止) \\n商家： FunNow、日本',\n",
              " '詳情：國內一般消費享 1%現金回饋無上限。  \\n#餐飲 5折(2024/8/31 止) \\n商家： FunNow、日本  \\n詳情：台灣發行之 Visa無限  /商務無限 / 御璽 /商務御璽卡持卡人，預訂東京、\\n大阪、沖繩等日本地區指定精選餐廳，透過 FunNow訂位，訂位人數選擇  2人\\n2份套餐，於付款頁面輸入優惠碼「 Visa50off 」後，可立即享有線上預訂金額\\n50％ 折扣，每月限量 100名。  \\n※優惠實際適用餐廳請依 FunNow活動網頁為準。  \\n條件：限餐飲',\n",
              " '日、國定假日 )使用原價 7折。  \\n3.紅檜俱樂部 NT$1,200/ 人。  \\n4.紅檜俱樂部 +竹林亭單饗餐 (日式套餐，原價 NT$1,080+10%) NT$1,600 /人。  \\n條件：限平日使用，限泡湯  \\n--- \\n##台新銀行玫瑰 Giving卡 \\n#台新 Point(信用卡 )回饋最高 3%，每月上限台新 Point(信用卡 )回饋 3000點\\n(2024/12/31 止、限國定例假日 ) \\n商家：國內一般消費',\n",
              " '商家： FunNow、日本  \\n詳情：台灣發行之 Visa無限  /商務無限 / 御璽 /商務御璽卡持卡人，預訂東京、\\n大阪、沖繩等日本地 區指定精選餐廳，透過 FunNow訂位，訂位人數選擇  2人\\n2份套餐，於付款頁面輸入優惠碼「 Visa50off 」後，可立即享有線上預訂金額\\n50％ 折扣，每月限量 100名。  \\n※優惠實際適用餐廳請依 FunNow活動網頁為準。  \\n條件：限餐飲  \\n#指定餐點買一送一 (2024/12/31 止) \\n商家：天鍋麻辣鴛鴦鍋']"
            ]
          },
          "metadata": {}
        }
      ]
    },
    {
      "cell_type": "code",
      "source": [
        "from openai import OpenAI\n",
        "from IPython.display import Markdown, display\n",
        "\n",
        "client = OpenAI(api_key=api_key)\n",
        "completion = client.chat.completions.create(\n",
        "  model=\"gpt-4o\",\n",
        "  messages=[\n",
        "    {\"role\": \"system\", \"content\": \"根據我輸入的問題與內容生成結果\"},\n",
        "    {\"role\": \"user\", \"content\": f'問題:{query}\\n內容:{similar_texts}'}\n",
        "  ]\n",
        ")\n",
        "\n",
        "\n",
        "display(Markdown(completion.choices[0].message.content))"
      ],
      "metadata": {
        "colab": {
          "base_uri": "https://localhost:8080/",
          "height": 313
        },
        "id": "JHSMB7HA7fQ_",
        "outputId": "04e767a5-36fb-40c2-c998-c1c313d489b9"
      },
      "execution_count": 8,
      "outputs": [
        {
          "output_type": "display_data",
          "data": {
            "text/plain": [
              "<IPython.core.display.Markdown object>"
            ],
            "text/markdown": "如果您計劃去日本旅遊，這裡有一些值得考慮的優惠推薦：\n\n1. **玉山 JCB日圓極緻卡**：\n   - **優惠詳情**：在日本地區消費可享 1.5% 現金回饋，還免收 1.5% 國外交易服務費，合計可享 3% 回饋。\n   - **優惠期限**：截至 2024/12/31。\n\n2. **透過 FunNow 訂位**：\n   - **優惠詳情**：持有台灣發行之 Visa無限、商務無限、御璽或商務御璽卡的持卡人，可以預訂東京、大阪、沖繩等指定餐廳。訂位 2 人並選擇 2 份套餐的情況下，在付款頁面輸入優惠碼「Visa50off」，可享受訂位金額 50% 折扣。\n   - **限制條件**：每月限量 100 名。\n   - **優惠期限**：截至 2024/8/31。\n\n3. **特定餐廳餐飲優惠**：\n   - **優惠詳情**：透過 FunNow 訂位，在指定餐廳可享受餐點買一送一優惠。\n   - **優惠期限**：截至 2024/12/31。\n\n這些優惠可以幫助您在日本旅遊時節省不少費用，建議您根據實際需要選擇並確認參考優惠的具體條件和期限。祝您有個愉快的日本之旅！"
          },
          "metadata": {}
        }
      ]
    }
  ]
}